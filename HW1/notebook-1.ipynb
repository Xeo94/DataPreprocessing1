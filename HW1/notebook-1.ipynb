{
 "cells": [
  {
   "attachments": {
    "Blockly.PNG": {
     "image/png": "[encoded data removed]"
    }
   },
   "cell_type": "markdown",
   "metadata": {
    "deletable": false,
    "editable": false,
    "nbgrader": {
     "checksum": "ff73d8f20bf4415ad846f42d01babd83",
     "grade": false,
     "grade_id": "cell-2043c3eab57201ca",
     "locked": true,
     "schema_version": 1,
     "solution": false
    }
   },
   "source": [
    "## Assignment 1\n",
    "\n",
    "Please, adhere exactly to the [how-tos](https://datascience.ai.wu.ac.at/ss19/dataprocessing1/code_of_conduct.html) on preparing your submission.\n",
    "\n",
    "### Task 1\n",
    "\n",
    "The following program printout was created using the Blockly visual programming environment.\n",
    "\n",
    "![Blockly.PNG](attachment:Blockly.PNG)\n",
    "\n",
    "\n",
    "Your task is to implement *exactly* this Blockly program in Python. Assume that `m` and `n` hold positive integers (i.e., natural numbers)."
   ]
  },
  {
   "cell_type": "code",
   "execution_count": 11,
   "metadata": {
    "deletable": false,
    "nbgrader": {
     "checksum": "7c7b25feedceb4a0541b2b25214139c5",
     "grade": false,
     "grade_id": "cell-9bc69e9deb0cf12a",
     "locked": false,
     "schema_version": 1,
     "solution": true
    }
   },
   "outputs": [],
   "source": [
    "def compute(m,n):\n",
    "    \"\"\"\n",
    "        Implement the Blockly program in Python.\n",
    "    \"\"\"\n",
    "    while m!=n:\n",
    "        if m>n:\n",
    "            m=m-n\n",
    "        else:\n",
    "            n=n-m\n",
    "    return n\n",
    "    raise NotImplementedError()"
   ]
  },
  {
   "cell_type": "code",
   "execution_count": 12,
   "metadata": {
    "deletable": false,
    "editable": false,
    "nbgrader": {
     "checksum": "580cde86dc4fab833b7a45e7cf9717ad",
     "grade": true,
     "grade_id": "cell-8e78b8fc05cfc95a",
     "locked": true,
     "points": 2,
     "schema_version": 1,
     "solution": false
    }
   },
   "outputs": [],
   "source": [
    "from nose.tools import assert_equal\n",
    "assert_equal(1, compute(2,1))\n",
    "assert_equal(1, compute(6,5))\n",
    "assert_equal(2, compute(2,6))\n",
    "assert_equal(2, compute(4,10))"
   ]
  },
  {
   "cell_type": "markdown",
   "metadata": {
    "deletable": false,
    "editable": false,
    "nbgrader": {
     "checksum": "297ee8b0370541e775630ab5bc262e14",
     "grade": false,
     "grade_id": "cell-d37f535f40e65b13",
     "locked": true,
     "schema_version": 1,
     "solution": false
    }
   },
   "source": [
    "### Task 2\n",
    "\n",
    "Given the matrices `a` , `b`, `c` ,and `d` create a function `mmultiply`using [nested loops](https://learnxinyminutes.com/docs/python3/) to multiply:\n",
    "\n",
    "* `a` with `b`\n",
    "* `c` with `d`\n",
    "* `a` with `a`\n",
    "\n",
    "Make sure you are aware of the rules applying to the [multiplication of matrices](https://www.mathwarehouse.com/algebra/matrix/multiply-matrix.php) especially to the changes of dimensions that will result from multiplying matrices with different dimensions. \n",
    "\n",
    "In case any of the matrix pairs cannot be multiplied make sure the correct error will be raised `\"Cannot multiply the two matrices\"`."
   ]
  },
  {
   "cell_type": "code",
   "execution_count": 13,
   "metadata": {
    "deletable": false,
    "editable": false,
    "nbgrader": {
     "checksum": "43ce077a6383bb2bb2a007a188eba9c0",
     "grade": false,
     "grade_id": "cell-35456609d56b1f60",
     "locked": true,
     "schema_version": 1,
     "solution": false
    }
   },
   "outputs": [],
   "source": [
    "a = [[5,3,5,6], [5,8,2,7], [4,4,8,9], [9,5,7,2]]\n",
    "\n",
    "b = [[1,8,5,2,3],[4,5,7,2,1],[5,9,7,5,5],[3,1,1,8,4]]\n",
    "\n",
    "c = [[1,2,3],[3,4,5],[5,6,7]]\n",
    "\n",
    "d = [[9,8,7,9,7], [7,6,5,4,7],[5,4,3,5,2]]"
   ]
  },
  {
   "cell_type": "code",
   "execution_count": 14,
   "metadata": {
    "deletable": false,
    "nbgrader": {
     "checksum": "2f97247bca9eb2f2ed19d02ce9956ca9",
     "grade": false,
     "grade_id": "cell-a8f3da9190f28f36",
     "locked": false,
     "schema_version": 1,
     "solution": true
    }
   },
   "outputs": [],
   "source": [
    "def mmultiply(a,b):\n",
    "#checking if multiplication is possible, if not the ValueError will be raised\n",
    "#Variables explained: rows[A]=len(a), rows[B]=len(b), columns[A]=len(a[0]), columns[B]=len(b[0])\n",
    "    if (len(a[0])!=len(b)):\n",
    "        raise ValueError(\"Cannot multiply the two matrices\")\n",
    "    else:\n",
    "        result = [[0 for row in range(len(b[0]))] for col in range(len(a))]\n",
    "        for i in range(len(a)):\n",
    "            for j in range(len(b[0])):\n",
    "                for k in range(len(a[0])):\n",
    "                    result[i][j] += a[i][k] * b[k][j]\n",
    "    return result\n",
    "\n",
    "\n",
    "    raise NotImplementedError()"
   ]
  },
  {
   "cell_type": "code",
   "execution_count": 15,
   "metadata": {
    "deletable": false,
    "editable": false,
    "nbgrader": {
     "checksum": "b4ba2e9e7ee41d3865f2dc469fb38799",
     "grade": true,
     "grade_id": "cell-bf3c817fcc515bad",
     "locked": true,
     "points": 2,
     "schema_version": 1,
     "solution": false
    }
   },
   "outputs": [],
   "source": [
    "from nose.tools import assert_raises, assert_equal\n",
    "assert_equal(mmultiply(a,b), [[60, 106, 87, 89, 67], [68, 105, 102, 92, 61], [87, 133, 113, 128, 92], [70, 162, 131, 79, 75]])\n",
    "assert_equal(mmultiply(c,d), [[38, 32, 26, 32, 27], [80, 68, 56, 68, 59], [122, 104, 86, 104, 91]])\n",
    "assert_equal(mmultiply(a,a), [[114, 89, 113, 108], [136, 122, 106, 118], [153, 121, 155, 142], [116, 105, 125, 156]])\n",
    "assert_raises(ValueError, mmultiply, [[1,2],[3,4]],[[1,2]])"
   ]
  },
  {
   "cell_type": "markdown",
   "metadata": {
    "deletable": false,
    "editable": false,
    "nbgrader": {
     "checksum": "a70cfa4e976be0ac15918178dfe82d47",
     "grade": false,
     "grade_id": "cell-31d1725e0714a2b6",
     "locked": true,
     "schema_version": 1,
     "solution": false
    }
   },
   "source": [
    "### Task 3\n",
    "Implement a function `my_split` that returns partitions of an input strings (words), which are separated by certain characters, as a list of words.\n",
    "\n",
    "* Your function must support the following separator characters: '-', '+' , ',', '#', '.', '!', '?', ':', '_', '<', '>', and ' '.\n",
    "* Any digit in the input string also serves as a separator character.\n",
    "    ```\n",
    "    s1 = 'This is a relatively easy example'\n",
    "    s2 = 'Hello_World!'\n",
    "    s3 = '412345+39432059'\n",
    "    s3 = 'SyntaxError: invalid syntax#wrongcode123'\n",
    "    s4 = \"  __><> ><>__ Ha4ve,fun?wi567th_thi34s;__ .<><   !!!!!\"\n",
    "    ```\n",
    "* The resulting list should not contain elements corresponding to the empty string (i.e. ['', ....])."
   ]
  },
  {
   "cell_type": "code",
   "execution_count": 16,
   "metadata": {
    "deletable": false,
    "editable": false,
    "nbgrader": {
     "checksum": "8feadf508924d235e1b8591736c285e8",
     "grade": false,
     "grade_id": "cell-e03c3385e595e949",
     "locked": true,
     "schema_version": 1,
     "solution": false
    }
   },
   "outputs": [],
   "source": [
    "t3_s1 = 'This is a relatively easy example'\n",
    "t3_s2 = 'Hello_World!'\n",
    "t3_s3 = '412345+39432059'\n",
    "t3_s4 = 'SyntaxError: invalid syntax#wrongcode123'\n",
    "t3_s5 = \"  __><> ><>__ Ha4ve,fun?wi567th_thi34s;__ .<><   !!!!!\""
   ]
  },
  {
   "cell_type": "code",
   "execution_count": 17,
   "metadata": {
    "deletable": false,
    "nbgrader": {
     "checksum": "344c8fca6093d84510f949208b01464d",
     "grade": false,
     "grade_id": "cell-4f9ad0bda217829d",
     "locked": false,
     "schema_version": 1,
     "solution": true
    }
   },
   "outputs": [],
   "source": [
    "import re\n",
    "#Here I imported regular expressions (re) module, since I could not find the sollution using \"stock\" Python\n",
    "#I learned about this module on site https://stackoverflow.com when I could not find the solution for the problem\n",
    "#Necessary knowledge on this library I gained from seeing the source code here: https://github.com/python/cpython/blob/master/Lib/re.py\n",
    "# and by reading the documentation here: https://docs.python.org/3/library/re.html\n",
    "\n",
    "def my_split(x):\n",
    "    \n",
    "    \n",
    "    clearedList = [i for i in re.split(r'[^a-zA-Z]', x) if i ]\n",
    "    return clearedList\n",
    "\n",
    "    raise NotImplementedError()"
   ]
  },
  {
   "cell_type": "code",
   "execution_count": 18,
   "metadata": {
    "deletable": false,
    "editable": false,
    "nbgrader": {
     "checksum": "05d9441301993a2551218411b8f1fc58",
     "grade": true,
     "grade_id": "cell-37e0cee9709095c2",
     "locked": true,
     "points": 3,
     "schema_version": 1,
     "solution": false
    }
   },
   "outputs": [
    {
     "name": "stdout",
     "output_type": "stream",
     "text": [
      "['Hello', 'World']\n"
     ]
    }
   ],
   "source": [
    "print(my_split(t3_s2))\n",
    "from nose.tools import assert_equal\n",
    "assert_equal(my_split(t3_s1), ['This','is','a','relatively','easy','example'])\n",
    "assert_equal(my_split(t3_s2), ['Hello','World'])\n",
    "assert_equal(my_split(t3_s3), [])\n",
    "assert_equal(my_split(t3_s4), ['SyntaxError','invalid','syntax','wrongcode'])\n",
    "assert_equal(my_split(t3_s5), ['Ha','ve','fun','wi','th','thi','s'])\n"
   ]
  },
  {
   "cell_type": "markdown",
   "metadata": {
    "deletable": false,
    "editable": false,
    "nbgrader": {
     "checksum": "4076fd3df0d92ab449d53faf629b9544",
     "grade": false,
     "grade_id": "cell-fadb7f35d32b210a",
     "locked": true,
     "schema_version": 1,
     "solution": false
    }
   },
   "source": [
    "### Task 4\n",
    "\n",
    "1. Combine `dict1`, `dict2`, and `dict3` into `my_dict`. \n",
    "2. In the dictionary `my_dict`, add  items key3=`3459` and `header:importantinfo`\n",
    "3. Sort they keys in `my_dict` alphabetically and store them as `alphabetic_keys`. \n",
    "4. Additionally, get the value of `special_key` from my_dict into a `special_value` variable. \n",
    "\n",
    "\n",
    "* `dict1 = dict(key1='Data Science is cool', key2='This SBWL is the best')`\n",
    "* `dict2 = {'key1': 5585, 'special_key': 'secret'}`\n",
    "* `dict3 = dict([('key2', 4546), ('keyX', 'X')])`\n",
    "\n",
    "As you can see, there are multiple ways to initialize a dictionary!\n",
    "\n",
    "Note that original dictionaries should stay untouched and `special_key` should be removed from `my_dict`."
   ]
  },
  {
   "cell_type": "code",
   "execution_count": 19,
   "metadata": {
    "deletable": false,
    "editable": false,
    "nbgrader": {
     "checksum": "4782b420613741822db30d0a17a18782",
     "grade": false,
     "grade_id": "cell-92064190f3c83005",
     "locked": true,
     "schema_version": 1,
     "solution": false
    }
   },
   "outputs": [],
   "source": [
    "dict1 = dict(key1='Data Science is cool', key2='This SBWL is the best')\n",
    "dict2 = {'key1': 5585, 'special_key': 'secret'}\n",
    "dict3 = dict([('key2', 4546), ('keyX', 'X')])"
   ]
  },
  {
   "cell_type": "code",
   "execution_count": 20,
   "metadata": {
    "deletable": false,
    "nbgrader": {
     "checksum": "a50f476084a28287f8c7fe03ec3b44be",
     "grade": false,
     "grade_id": "cell-5083efda54c6dac7",
     "locked": false,
     "schema_version": 1,
     "solution": true
    }
   },
   "outputs": [],
   "source": [
    "#1 Combining dictionaries:\n",
    "my_dict={}\n",
    "my_dict.update(dict1)\n",
    "my_dict.update(dict2)\n",
    "my_dict.update(dict3)\n",
    "#2 Adding items\n",
    "my_dict.update(key3=3459)\n",
    "my_dict.update({\"header\":\"importantinfo\"})\n",
    "#3 Making a new dictionary and putting all the keys except special_key\n",
    "# and sorting them alphabetically\n",
    "alphabetic_keys=[]\n",
    "for i in my_dict.keys():\n",
    "    if i != \"special_key\":\n",
    "        alphabetic_keys.append(i)\n",
    "alphabetic_keys.sort()\n",
    "\n",
    "#4 Saving the special_key to special_variable and deleting the special_key from my_dict\n",
    "special_value=my_dict[\"special_key\"]\n",
    "del my_dict[\"special_key\"] \n",
    "#raise NotImplementedError()\n",
    "#For some reason the NotImplementedError was being raised all the time, even though I did as instructed, so I commented it out."
   ]
  },
  {
   "cell_type": "code",
   "execution_count": 21,
   "metadata": {
    "deletable": false,
    "editable": false,
    "nbgrader": {
     "checksum": "6b4037a04b4a959a46e872b1c1af147c",
     "grade": true,
     "grade_id": "cell-00564ef4f925f0a8",
     "locked": true,
     "points": 3,
     "schema_version": 1,
     "solution": false
    }
   },
   "outputs": [],
   "source": [
    "# Check if the originals are untouched\n",
    "\n",
    "from nose.tools import assert_equal\n",
    "assert_equal(dict1,{\n",
    "        'key1': 'Data Science is cool',\n",
    "        'key2': 'This SBWL is the best'\n",
    "    })\n",
    "assert_equal(dict2,{\n",
    "        'key1': 5585, \n",
    "        'special_key': 'secret'\n",
    "    })\n",
    "assert_equal(dict3,{\n",
    "        'key2': 4546,\n",
    "        'keyX': 'X'\n",
    "    })\n",
    "assert_equal(my_dict,{\n",
    "        'key1': 5585,\n",
    "        'key2': 4546,\n",
    "        'keyX': 'X',\n",
    "        'key3': 3459,\n",
    "        'header':'importantinfo'})\n",
    "\n",
    "assert_equal(alphabetic_keys, ['header', 'key1', 'key2', 'key3', 'keyX'])\n",
    "\n",
    "assert_equal(special_value,'secret')"
   ]
  }
 ],
 "metadata": {
  "kernelspec": {
   "display_name": "Python 3",
   "language": "python",
   "name": "python3"
  },
  "language_info": {
   "codemirror_mode": {
    "name": "ipython",
    "version": 3
   },
   "file_extension": ".py",
   "mimetype": "text/x-python",
   "name": "python",
   "nbconvert_exporter": "python",
   "pygments_lexer": "ipython3",
   "version": "3.7.1"
  }
 },
 "nbformat": 4,
 "nbformat_minor": 2
}
